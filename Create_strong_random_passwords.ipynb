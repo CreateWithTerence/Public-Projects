{
  "nbformat": 4,
  "nbformat_minor": 0,
  "metadata": {
    "colab": {
      "provenance": [],
      "authorship_tag": "ABX9TyOOUVb9wYoV8cracF4sxz/Y",
      "include_colab_link": true
    },
    "kernelspec": {
      "name": "python3",
      "display_name": "Python 3"
    },
    "language_info": {
      "name": "python"
    }
  },
  "cells": [
    {
      "cell_type": "markdown",
      "metadata": {
        "id": "view-in-github",
        "colab_type": "text"
      },
      "source": [
        "<a href=\"https://colab.research.google.com/github/CreateWithTerence/Public-Projects/blob/main/Create_strong_random_passwords.ipynb\" target=\"_parent\"><img src=\"https://colab.research.google.com/assets/colab-badge.svg\" alt=\"Open In Colab\"/></a>"
      ]
    },
    {
      "cell_type": "code",
      "execution_count": 1,
      "metadata": {
        "colab": {
          "base_uri": "https://localhost:8080/"
        },
        "id": "GLdF_pKYOoQn",
        "outputId": "29805177-c10b-4112-c1ad-3f24ad8b40a1"
      },
      "outputs": [
        {
          "output_type": "stream",
          "name": "stdout",
          "text": [
            "%4kDOg$AxtRaCoJOSd\n"
          ]
        }
      ],
      "source": [
        "# Generate Strong Random Passwords\n",
        "import random\n",
        "import string\n",
        "# This script will generate an 18 character password\n",
        "word_length = 18\n",
        "# Generate a list of letters, digits, and some punctuation\n",
        "components = [string.ascii_letters, string.digits, \"!@#$%&\"]\n",
        "# flatten the components into a list of characters\n",
        "chars = []\n",
        "for clist in components:\n",
        "  for item in clist:\n",
        "    chars.append(item)\n",
        "def generate_password():\n",
        "  # Store the generated password\n",
        "  password = []\n",
        "  # Choose a random item from 'chars' and add it to 'password'\n",
        "  for i in range(word_length):\n",
        "    rchar = random.choice(chars)\n",
        "    password.append(rchar)\n",
        "  # Return the composed password as a string\n",
        "  return \"\".join(password)\n",
        "# Output generated password\n",
        "print(generate_password())"
      ]
    }
  ]
}